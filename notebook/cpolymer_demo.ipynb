{
 "metadata": {
  "name": "",
  "signature": "sha256:6165b17b77ac418bbced065fd4f0e80cef4269746b6fb83dbab86a3e88929d0e"
 },
 "nbformat": 3,
 "nbformat_minor": 0,
 "worksheets": [
  {
   "cells": [
    {
     "cell_type": "heading",
     "level": 1,
     "metadata": {},
     "source": [
      "Basic usage to create a block copolymer system"
     ]
    },
    {
     "cell_type": "markdown",
     "metadata": {},
     "source": [
      "\n",
      "This show how to create an initial configuration and all the set-up to create all the files\n",
      "required by lammps to create a block copolymer system\n"
     ]
    },
    {
     "cell_type": "code",
     "collapsed": false,
     "input": [
      "from cpolymer.lsimu import LSimu\n",
      "from cpolymer.constrain import Box\n",
      "\n",
      "#here I specify the cmd I will use (Lammps and mpi must be installed independently)\n",
      "\n",
      "Simu = LSimu(cmd=\"mpirun -np 8 lammps\")\n",
      "\n",
      "#Create 30 polymer with a hundred monomers each. Each polymer is constituted of four blocks\n",
      "\n",
      "Simu.create_ploymers(NP=30,N=100,type_bead=[1]*25 + [2]*25 + [1]*25 + [2]*25,\n",
      "                     box=Box([0,0,0],[15,15,15]),\n",
      "                     liaison={\"1-1\":[1.0,1],\"1-2\":[1.0,2],\"2-2\":[1.0,3]})\n",
      "\n",
      "#Define the type of bond between each monomer type\n",
      "Simu.add_bond(typeb=\"harmonic\",idbond=1,K=80,R0=1)\n",
      "Simu.add_bond(typeb=\"harmonic\",idbond=2,K=80,R0=1)\n",
      "Simu.add_bond(typeb=\"harmonic\",idbond=3,K=80,R0=1)\n",
      "\n",
      "#Define the interaction between each monomer type\n",
      "# Attractive between same bead types\n",
      "Simu.add_pair(typep=\"lj/cut\",idpair1=1,idpair2=1,epsilon=1,sigma=1,cutoff1=1.3)\n",
      "Simu.add_pair(typep=\"lj/cut\",idpair1=2,idpair2=2,epsilon=1,sigma=1,cutoff1=1.3)\n",
      "\n",
      "#Purely repulsive for different types\n",
      "Simu.add_pair(typep=\"lj/cut\",idpair1=1,idpair2=2,epsilon=1,sigma=1,cutoff1=1.12)\n",
      "\n",
      "\n",
      "rep = \"./\"\n",
      "Simu.generate_xyz(\"mix.xyz\",Mass=\"one\")\n",
      "Simu.generate_interactions(rep + \"interaction\")\n",
      "Simu.generate_pdb(\"mix.pdb\")\n",
      "Simu.generate_script(\"basic.txt\",run_length=100000,samplingrate=1000,initconf=\"mix.xyz\",\n",
      "                        outtraj=\"out.dcd\",outfile=\"out.xyz\",interactions=\"interaction\",particle=\"1 2\")\n",
      "Simu.run(script=\"basic.txt\")"
     ],
     "language": "python",
     "metadata": {},
     "outputs": [
      {
       "output_type": "stream",
       "stream": "stdout",
       "text": [
        "Reading template /home/jarbona/cpolymer/cpolymer/template/basic.txt\n",
        "mpirun -np 8 lammps < basic.txt\n"
       ]
      },
      {
       "metadata": {},
       "output_type": "pyout",
       "prompt_number": 16,
       "text": [
        "'LAMMPS (23 May 2014)\\nWARNING: OMP_NUM_THREADS environment is not set. (../comm_brick.cpp:82)\\n  using 1 OpenMP thread(s) per MPI task\\nLattice spacing in x,y,z = 1 1 1\\nReading data file ...\\n  orthogonal box = (0 0 0) to (15 15 15)\\n  2 by 2 by 2 MPI processor grid\\n  reading atoms ...\\n  3000 atoms\\n  scanning bonds ...\\n  1 = max bonds/atom\\n  reading bonds ...\\n  2970 bonds\\nFinding 1-2 1-3 1-4 neighbors ...\\n  2 = max # of 1-2 neighbors\\n  2 = max # of 1-3 neighbors\\n  4 = max # of 1-4 neighbors\\n  6 = max # of special neighbors\\n3000 atoms in group particle\\nSetting up run ...\\nMemory usage per processor = 5.31465 Mbytes\\nStep Temp \\n       0            1 \\n   10000    1.0088299 \\n   20000    1.0061253 \\n   30000   0.97899649 \\n   40000   0.97790557 \\n   50000   0.99002535 \\n   60000   0.99196739 \\n   70000    1.0026741 \\n   80000   0.99108423 \\n   90000    1.0012676 \\n  100000    1.0024358 \\nLoop time of 27.8689 on 8 procs (8 MPI x 1 OpenMP) for 100000 steps with 3000 atoms\\n\\nPair  time (%) = 11.56 (41.4799)\\nBond  time (%) = 0.86037 (3.08721)\\nNeigh time (%) = 2.13988 (7.67839)\\nComm  time (%) = 9.80661 (35.1884)\\nOutpt time (%) = 0.0324043 (0.116274)\\nOther time (%) = 3.46962 (12.4498)\\n\\nNlocal:    375 ave 391 max 363 min\\nHistogram: 1 1 2 0 1 1 0 1 0 1\\nNghost:    2109.88 ave 2128 max 2098 min\\nHistogram: 3 2 0 0 0 0 0 0 1 2\\nNeighs:    22366.8 ave 23881 max 20369 min\\nHistogram: 1 0 0 3 0 0 0 1 1 2\\n\\nTotal # of neighbors = 178934\\nAve neighs/atom = 59.6447\\nAve special neighs/atom = 5.88\\nNeighbor list builds = 1659\\nDangerous builds = 0\\nSystem init for write_data ...\\n\\nPlease see the log.cite file for references relevant to this simulation\\n\\n'"
       ]
      }
     ],
     "prompt_number": 16
    },
    {
     "cell_type": "markdown",
     "metadata": {},
     "source": [
      "Here is the initial configuration"
     ]
    },
    {
     "cell_type": "markdown",
     "metadata": {},
     "source": [
      "<img src=\"https://raw.githubusercontent.com/jeammimi/cpolymer/master/notebook/images/Initial_configuration.png\">"
     ]
    },
    {
     "cell_type": "markdown",
     "metadata": {},
     "source": [
      "And the one after the run"
     ]
    },
    {
     "cell_type": "markdown",
     "metadata": {},
     "source": [
      "<img src=\"https://raw.githubusercontent.com/jeammimi/cpolymer/master/notebook/images/final_configuration.png\">"
     ]
    },
    {
     "cell_type": "code",
     "collapsed": false,
     "input": [],
     "language": "python",
     "metadata": {},
     "outputs": []
    }
   ],
   "metadata": {}
  }
 ]
}