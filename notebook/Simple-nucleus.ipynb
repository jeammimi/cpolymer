{
 "metadata": {
  "name": "",
  "signature": "sha256:85523124963f5ce4c211a965576f82a243d76e8d36b1a1350669f1cef90c27ae"
 },
 "nbformat": 3,
 "nbformat_minor": 0,
 "worksheets": [
  {
   "cells": [
    {
     "cell_type": "heading",
     "level": 1,
     "metadata": {},
     "source": [
      "Let's begin with a simple nucleus"
     ]
    },
    {
     "cell_type": "markdown",
     "metadata": {},
     "source": [
      "First w need to define all the physical values of the simulation:\n",
      "\n",
      "We are going to create a simple nucleus with 16 chromosome of size 200 kilo base.\n",
      "The physical values that we need to define are the compaction that we will\n",
      "take to 50 base / nm. So every chromosome will we of length 4 micron.\n",
      "We next need to define the width of the fiber. We can choose 30 nm.\n",
      "This will give 4000/30 = 133 beads, where each bead will represent 1500 base.\n",
      "Finally we can also define a persistence length."
     ]
    },
    {
     "cell_type": "markdown",
     "metadata": {},
     "source": [
      "Then to scale the simulation in Lennard-Jones units.\n",
      "\n",
      "To scale all the simulation, the size of the most common beads\n",
      "is set to one and this is the reference.\n",
      "for example if we choose beads of 60 nm in Diameter, an nucleus of Radius one micron,\n",
      "the diameter of the beads in the simulation is one, and the Radius = 1000/60 = 16.6"
     ]
    },
    {
     "cell_type": "code",
     "collapsed": false,
     "input": [
      "import numpy as np\n",
      "from cpolymer.polymer import Polymer\n",
      "from cpolymer.lsimu import LSimu\n",
      "from cpolymer.constrain import Box,Sphere\n",
      "\n",
      "\n",
      "Radius = 16.6\n",
      "Nchromosomes = 16\n",
      "Schromosome = 133\n",
      "nucleus = Sphere(position=[0,0,0],radius=Radius)\n",
      "\n",
      "Sim = LSimu()\n",
      "\n",
      "bead_type = 1 # ALl the beads are going to be the same type\n",
      "for X in range(Nchromosomes):\n",
      "    bead_size=1\n",
      "    bond_type=1\n",
      "    Sim.add(Polymer(N=Schromosome,type_bead=1,\n",
      "                    liaison={\"{0}-{0}\".format(bead_type):[bead_size,bond_type]},\n",
      "                    gconstrain=[nucleus]))\n",
      "    \n",
      "Sim.add_bond(typeb=\"harmonic\",idbond=bond_type,K=350,R0=bead_size)\n",
      "\n",
      "Sim.add_pair(typep=\"lj/cut\",idpair1=bead_type,idpair2=bead_type,epsilon=1,sigma=bead_size,cutoff1=1.15)\n",
      "\n",
      "Sim.add_box(Box([-1.1*Radius,-1.1*Radius,-1.1*Radius],[1.1*Radius,1.1*Radius,1.1*Radius]))\n",
      "\n",
      "    "
     ],
     "language": "python",
     "metadata": {},
     "outputs": [],
     "prompt_number": 2
    },
    {
     "cell_type": "code",
     "collapsed": false,
     "input": [
      "#Now we have to create a template for the simulation.\n",
      "Template=\"\"\"\n",
      "################################\n",
      "#Template\n",
      "#Must contain the variables\n",
      "#  typecell \n",
      "#  outtraj\n",
      "#  outfile\n",
      "#  radius\n",
      "#  interaction\n",
      "#  run_length\n",
      "#  samplingrate\n",
      "#  particle\n",
      "\n",
      "\n",
      "# VARIABLES\n",
      "variable tcell index $typecell    # Define the variable from the tempalte\n",
      "variable fname index ${tcell}conf2.txt    # configuration initiale\n",
      "\n",
      "\n",
      "# Initialization\n",
      "#correspond to x=y=z=1\n",
      "lattice fcc 4\n",
      "units\t\tlj\n",
      "boundary\tf f f\n",
      "atom_style\tmolecular\n",
      "log \t\tlog.txt\n",
      "read_data\t${fname}\n",
      "\n",
      "\n",
      "\n",
      "neighbor 2.0 multi\n",
      "\n",
      "\n",
      "include $interaction\n",
      "\n",
      "\n",
      "\n",
      "\n",
      "\n",
      "group particle type 1 \n",
      "\n",
      "compute hic particle  pair/local dist\n",
      "compute hicp particle property/local patom1 patom2\n",
      "\n",
      "\n",
      "\n",
      "dump  init all dcd $samplingrate $outtraj.${tcell}.comp.dcd\n",
      "\n",
      "\n",
      "\n",
      "###########################################################\n",
      "#Definiton of nucleus and its interaction\n",
      "#the telomere part is added when the nuceus has the right size\n",
      "\n",
      "variable rad equal $radius\n",
      "\n",
      "region mySphere sphere 0.0 0.0 0.0 v_rad side in\n",
      "\n",
      "fix wall1 particle wall/region mySphere lj126 1 1 1.12 \n",
      "\n",
      "\n",
      "#####################################################\n",
      "# Equilibration (Langevin dynamics )\n",
      "\n",
      "velocity \tparticle create 1.0 1231\n",
      "fix\t\t1 particle nve/limit 0.0005\n",
      "fix\t\tlang particle langevin 1.0 1.0 1.0 904297\n",
      "run 200000\n",
      "\n",
      "unfix 1\n",
      "\n",
      "thermo_style\tcustom step temp \n",
      "thermo          10000\n",
      "fix\t\t1 particle nve/limit 0.05\n",
      "timestep\t0.005 \n",
      "run\t\t$run_length\n",
      "\n",
      "\n",
      "write_data $outfile\n",
      "\"\"\"\n",
      "with open(\"tscript\",\"w\") as f:\n",
      "    f.writelines(Template)"
     ],
     "language": "python",
     "metadata": {},
     "outputs": [],
     "prompt_number": 3
    },
    {
     "cell_type": "code",
     "collapsed": false,
     "input": [
      "#Then let's generate all the files needed to run the simulation:\n",
      "REP=\"./\"\n",
      "cell=\"simple_yeast\"\n",
      "Sim.generate_xyz(REP+\"/%sconf2.txt\"%cell,Mass={str(bead_type):1})\n",
      "Sim.generate_pdb(REP+\"/%snoyau2.pdb\"%cell,shift=1)  # Not necellary to run the simulation but usefull for the analysis\n",
      "Sim.generate_interactions(REP+\"/interactions\")\n",
      "Sim.generate_script(REP+\"/nucleus_init.txt\",template_name=\"./tscript\",outfile=\"final.xyz\",\n",
      "                       outtraj=\"dump_init\",samplingrate=1000,run_length=100000,\n",
      "                       interaction=\"interactions\",typecell=cell,\n",
      "                       radius=Radius)"
     ],
     "language": "python",
     "metadata": {},
     "outputs": [],
     "prompt_number": 4
    },
    {
     "cell_type": "code",
     "collapsed": false,
     "input": [
      "Sim.run(\"nucleus_init.txt\")"
     ],
     "language": "python",
     "metadata": {},
     "outputs": [
      {
       "output_type": "stream",
       "stream": "stdout",
       "text": [
        "lammps < nucleus_init.txt\n"
       ]
      },
      {
       "metadata": {},
       "output_type": "pyout",
       "prompt_number": 5,
       "text": [
        "'LAMMPS (23 May 2014)\\nWARNING: OMP_NUM_THREADS environment is not set. (../comm_brick.cpp:82)\\n  using 1 OpenMP thread(s) per MPI task\\nLattice spacing in x,y,z = 1 1 1\\nReading data file ...\\n  orthogonal box = (-18.26 -18.26 -18.26) to (18.26 18.26 18.26)\\n  1 by 1 by 1 MPI processor grid\\n  reading atoms ...\\n  2128 atoms\\n  scanning bonds ...\\n  1 = max bonds/atom\\n  reading bonds ...\\n  2112 bonds\\nFinding 1-2 1-3 1-4 neighbors ...\\n  2 = max # of 1-2 neighbors\\n  2 = max # of 1-3 neighbors\\n  4 = max # of 1-4 neighbors\\n  6 = max # of special neighbors\\n2128 atoms in group particle\\nSetting up run ...\\nMemory usage per processor = 5.46606 Mbytes\\nStep Temp E_pair E_mol TotEng Press \\n       0            1 3.9115165e+11 5.705246e-07 3.9115165e+11 6.8357236e+10 \\n  200000 0.0029186304  0.017262492  0.076246345  0.097884726 0.00026126146 \\nLoop time of 116.243 on 1 procs (1 MPI x 1 OpenMP) for 200000 steps with 2128 atoms\\n\\nPair  time (%) = 60.4409 (51.9953)\\nBond  time (%) = 9.21178 (7.92458)\\nNeigh time (%) = 0.0083611 (0.00719277)\\nComm  time (%) = 0.0354366 (0.0304849)\\nOutpt time (%) = 0.0193338 (0.0166322)\\nOther time (%) = 46.5273 (40.0258)\\n\\nNlocal:    2128 ave 2128 max 2128 min\\nHistogram: 1 0 0 0 0 0 0 0 0 0\\nNghost:    0 ave 0 max 0 min\\nHistogram: 1 0 0 0 0 0 0 0 0 0\\nNeighs:    57433 ave 57433 max 57433 min\\nHistogram: 1 0 0 0 0 0 0 0 0 0\\n\\nTotal # of neighbors = 57433\\nAve neighs/atom = 26.9892\\nAve special neighs/atom = 5.90977\\nNeighbor list builds = 3\\nDangerous builds = 0\\nSetting up run ...\\nMemory usage per processor = 5.46606 Mbytes\\nStep Temp \\n  200000 0.0029186304 \\n  210000   0.97828455 \\n  220000   0.99642227 \\n  230000    1.0515661 \\n  240000   0.98332676 \\n  250000   0.99747044 \\n  260000     1.025069 \\n  270000   0.97789037 \\n  280000   0.99763186 \\n  290000    1.0127106 \\n  300000    1.0146018 \\nLoop time of 37.8811 on 1 procs (1 MPI x 1 OpenMP) for 100000 steps with 2128 atoms\\n\\nPair  time (%) = 10.9403 (28.8806)\\nBond  time (%) = 4.88458 (12.8945)\\nNeigh time (%) = 3.3188 (8.76112)\\nComm  time (%) = 0.0666893 (0.176049)\\nOutpt time (%) = 0.0120173 (0.0317236)\\nOther time (%) = 18.6587 (49.256)\\n\\nNlocal:    2128 ave 2128 max 2128 min\\nHistogram: 1 0 0 0 0 0 0 0 0 0\\nNghost:    0 ave 0 max 0 min\\nHistogram: 1 0 0 0 0 0 0 0 0 0\\nNeighs:    18255 ave 18255 max 18255 min\\nHistogram: 1 0 0 0 0 0 0 0 0 0\\n\\nTotal # of neighbors = 18255\\nAve neighs/atom = 8.57848\\nAve special neighs/atom = 5.90977\\nNeighbor list builds = 1721\\nDangerous builds = 0\\nSystem init for write_data ...\\n\\nPlease see the log.cite file for references relevant to this simulation\\n\\n'"
       ]
      }
     ],
     "prompt_number": 5
    },
    {
     "cell_type": "code",
     "collapsed": false,
     "input": [],
     "language": "python",
     "metadata": {},
     "outputs": []
    }
   ],
   "metadata": {}
  }
 ]
}